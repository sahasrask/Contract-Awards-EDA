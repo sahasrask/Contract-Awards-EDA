{
 "cells": [
  {
   "cell_type": "markdown",
   "id": "aa5ed3c4",
   "metadata": {},
   "source": [
    "# importing the required packages"
   ]
  },
  {
   "cell_type": "code",
   "execution_count": 1,
   "id": "6a0e54de",
   "metadata": {},
   "outputs": [],
   "source": [
    "import pandas as pd\n",
    "from sklearn.impute import SimpleImputer\n",
    "#The code imports the pandas library as 'pd' and the SimpleImputer class from scikit-learn. It uses SimpleImputer to fill missing values in the 'FPDS Code' column of a DataFrame using the most frequent value."
   ]
  },
  {
   "cell_type": "markdown",
   "id": "4713d8d0",
   "metadata": {},
   "source": [
    "# reading the csv files "
   ]
  },
  {
   "cell_type": "code",
   "execution_count": 2,
   "id": "47abfeee",
   "metadata": {},
   "outputs": [
    {
     "name": "stderr",
     "output_type": "stream",
     "text": [
      "/var/folders/9q/s74pfht965b9xn08c_00yg940000gn/T/ipykernel_52384/3938857808.py:1: DtypeWarning: Columns (22) have mixed types. Specify dtype option on import or set low_memory=False.\n",
      "  df1 = pd.read_csv('FY2015_archived_opportunities.csv',encoding='cp437')\n"
     ]
    }
   ],
   "source": [
    "df1 = pd.read_csv('FY2015_archived_opportunities.csv',encoding='cp437')\n",
    "\n",
    "#The code reads a CSV file named 'FY2015_archived_opportunities.csv' into a pandas DataFrame called 'df1'. It specifies the encoding as 'cp437' to handle any non-standard characters in the file.\n"
   ]
  },
  {
   "cell_type": "code",
   "execution_count": 3,
   "id": "98203197",
   "metadata": {},
   "outputs": [],
   "source": [
    "df2 = pd.read_csv('FY2016_archived_opportunities.csv',encoding='cp437')\n",
    "\n",
    "#The code reads a CSV file named 'FY2016_archived_opportunities.csv' into a pandas DataFrame called 'df1'. It specifies the encoding as 'cp437' to handle any non-standard characters in the file."
   ]
  },
  {
   "cell_type": "code",
   "execution_count": 4,
   "id": "669f70e0",
   "metadata": {},
   "outputs": [],
   "source": [
    "df3 = pd.read_csv('FY2017_archived_opportunities.csv',encoding='cp437')\n",
    "# The code reads a CSV file named 'FY2017_archived_opportunities.csv' into a pandas DataFrame called 'df1'. It specifies the encoding as 'cp437' to handle any non-standard characters in the file."
   ]
  },
  {
   "cell_type": "markdown",
   "id": "4f3bc72f",
   "metadata": {},
   "source": [
    "# assigning the dataframes to the variable"
   ]
  },
  {
   "cell_type": "code",
   "execution_count": 5,
   "id": "d553a1f1",
   "metadata": {},
   "outputs": [],
   "source": [
    "data = [df1, df2, df3] # assingning the dataframes to the variable data "
   ]
  },
  {
   "cell_type": "markdown",
   "id": "4dd18d57",
   "metadata": {},
   "source": [
    "# concatinating the dataframes"
   ]
  },
  {
   "cell_type": "code",
   "execution_count": 6,
   "id": "1ce886bb",
   "metadata": {},
   "outputs": [],
   "source": [
    "df = pd.concat(data) # concatinating the dataframes"
   ]
  },
  {
   "cell_type": "markdown",
   "id": "4bf25476",
   "metadata": {},
   "source": [
    "# displaying the shape of a dataframe"
   ]
  },
  {
   "cell_type": "code",
   "execution_count": 7,
   "id": "4f610e08",
   "metadata": {},
   "outputs": [
    {
     "data": {
      "text/plain": [
       "(1144877, 47)"
      ]
     },
     "execution_count": 7,
     "metadata": {},
     "output_type": "execute_result"
    }
   ],
   "source": [
    "df.shape #shape of the dataframe"
   ]
  },
  {
   "cell_type": "markdown",
   "id": "0d0e06d8",
   "metadata": {},
   "source": [
    "# printing the columns which have more than 83% null values"
   ]
  },
  {
   "cell_type": "code",
   "execution_count": 8,
   "id": "f4c46270",
   "metadata": {},
   "outputs": [
    {
     "data": {
      "text/plain": [
       "['PrimaryContactFax',\n",
       " 'SecondaryContactTitle',\n",
       " 'SecondaryContactPhone',\n",
       " 'SecondaryContactFax',\n",
       " 'AdditionalInfoLink']"
      ]
     },
     "execution_count": 8,
     "metadata": {},
     "output_type": "execute_result"
    }
   ],
   "source": [
    "# remove columns with null vallues > 83%\n",
    "\n",
    "na_df=pd.DataFrame({'col_name':df.columns,'na_per':df.isnull().sum()/df.shape[0]*100}) \n",
    "\n",
    "na_grt75=list(na_df[na_df['na_per']>83]['col_name'])\n",
    "\n",
    "na_grt75"
   ]
  },
  {
   "cell_type": "markdown",
   "id": "a4e45409",
   "metadata": {},
   "source": [
    "# displaying the information of the dataframe"
   ]
  },
  {
   "cell_type": "code",
   "execution_count": 9,
   "id": "9ac707b9",
   "metadata": {},
   "outputs": [
    {
     "name": "stdout",
     "output_type": "stream",
     "text": [
      "<class 'pandas.core.frame.DataFrame'>\n",
      "Int64Index: 1144877 entries, 0 to 396215\n",
      "Data columns (total 47 columns):\n",
      " #   Column                    Non-Null Count    Dtype  \n",
      "---  ------                    --------------    -----  \n",
      " 0   NoticeId                  1144877 non-null  object \n",
      " 1   Title                     1143912 non-null  object \n",
      " 2   Sol#                      1094401 non-null  object \n",
      " 3   Department/Ind.Agency     625230 non-null   object \n",
      " 4   CGAC                      625230 non-null   float64\n",
      " 5   Sub-Tier                  625107 non-null   object \n",
      " 6   FPDS Code                 624174 non-null   object \n",
      " 7   Office                    625230 non-null   object \n",
      " 8   AAC Code                  625107 non-null   object \n",
      " 9   PostedDate                1144877 non-null  object \n",
      " 10  Type                      1144624 non-null  object \n",
      " 11  BaseType                  1144510 non-null  object \n",
      " 12  ArchiveType               1144877 non-null  object \n",
      " 13  ArchiveDate               1133642 non-null  object \n",
      " 14  SetASideCode              348652 non-null   object \n",
      " 15  SetASide                  348652 non-null   object \n",
      " 16  ResponseDeadLine          809799 non-null   object \n",
      " 17  NaicsCode                 1022920 non-null  float64\n",
      " 18  ClassificationCode        1140508 non-null  object \n",
      " 19  PopStreetAddress          433355 non-null   object \n",
      " 20  PopCity                   277012 non-null   object \n",
      " 21  PopState                  270245 non-null   object \n",
      " 22  PopZip                    250778 non-null   object \n",
      " 23  PopCountry                330258 non-null   object \n",
      " 24  Active                    1144877 non-null  object \n",
      " 25  AwardNumber               278125 non-null   object \n",
      " 26  AwardDate                 278150 non-null   object \n",
      " 27  Award$                    248209 non-null   object \n",
      " 28  Awardee                   248245 non-null   object \n",
      " 29  PrimaryContactTitle       271877 non-null   object \n",
      " 30  PrimaryContactFullname    1142924 non-null  object \n",
      " 31  PrimaryContactEmail       499645 non-null   object \n",
      " 32  PrimaryContactPhone       455513 non-null   object \n",
      " 33  PrimaryContactFax         116372 non-null   object \n",
      " 34  SecondaryContactTitle     185345 non-null   object \n",
      " 35  SecondaryContactFullname  211943 non-null   object \n",
      " 36  SecondaryContactEmail     212434 non-null   object \n",
      " 37  SecondaryContactPhone     192914 non-null   object \n",
      " 38  SecondaryContactFax       80065 non-null    object \n",
      " 39  OrganizationType          625230 non-null   object \n",
      " 40  State                     622966 non-null   object \n",
      " 41  City                      625107 non-null   object \n",
      " 42  ZipCode                   623009 non-null   object \n",
      " 43  CountryCode               625229 non-null   object \n",
      " 44  AdditionalInfoLink        0 non-null        float64\n",
      " 45  Link                      1144877 non-null  object \n",
      " 46  Description               894141 non-null   object \n",
      "dtypes: float64(3), object(44)\n",
      "memory usage: 419.3+ MB\n"
     ]
    }
   ],
   "source": [
    "df.info() #information of the dataframe"
   ]
  },
  {
   "cell_type": "markdown",
   "id": "aed7a27f",
   "metadata": {},
   "source": [
    "# printing the total nan values in each column in the dataframe"
   ]
  },
  {
   "cell_type": "code",
   "execution_count": 10,
   "id": "89bf127e",
   "metadata": {},
   "outputs": [
    {
     "data": {
      "text/plain": [
       "NoticeId                          0\n",
       "Title                           965\n",
       "Sol#                          50476\n",
       "Department/Ind.Agency        519647\n",
       "CGAC                         519647\n",
       "Sub-Tier                     519770\n",
       "FPDS Code                    520703\n",
       "Office                       519647\n",
       "AAC Code                     519770\n",
       "PostedDate                        0\n",
       "Type                            253\n",
       "BaseType                        367\n",
       "ArchiveType                       0\n",
       "ArchiveDate                   11235\n",
       "SetASideCode                 796225\n",
       "SetASide                     796225\n",
       "ResponseDeadLine             335078\n",
       "NaicsCode                    121957\n",
       "ClassificationCode             4369\n",
       "PopStreetAddress             711522\n",
       "PopCity                      867865\n",
       "PopState                     874632\n",
       "PopZip                       894099\n",
       "PopCountry                   814619\n",
       "Active                            0\n",
       "AwardNumber                  866752\n",
       "AwardDate                    866727\n",
       "Award$                       896668\n",
       "Awardee                      896632\n",
       "PrimaryContactTitle          873000\n",
       "PrimaryContactFullname         1953\n",
       "PrimaryContactEmail          645232\n",
       "PrimaryContactPhone          689364\n",
       "PrimaryContactFax           1028505\n",
       "SecondaryContactTitle        959532\n",
       "SecondaryContactFullname     932934\n",
       "SecondaryContactEmail        932443\n",
       "SecondaryContactPhone        951963\n",
       "SecondaryContactFax         1064812\n",
       "OrganizationType             519647\n",
       "State                        521911\n",
       "City                         519770\n",
       "ZipCode                      521868\n",
       "CountryCode                  519648\n",
       "AdditionalInfoLink          1144877\n",
       "Link                              0\n",
       "Description                  250736\n",
       "dtype: int64"
      ]
     },
     "execution_count": 10,
     "metadata": {},
     "output_type": "execute_result"
    }
   ],
   "source": [
    "df.isnull().sum() # printing the total nan values in each column in the dataframe"
   ]
  },
  {
   "cell_type": "markdown",
   "id": "cc97371f",
   "metadata": {},
   "source": [
    "# displaying the title column of the dataframe"
   ]
  },
  {
   "cell_type": "code",
   "execution_count": 11,
   "id": "fd9a6a11",
   "metadata": {},
   "outputs": [
    {
     "data": {
      "text/plain": [
       "965"
      ]
     },
     "execution_count": 11,
     "metadata": {},
     "output_type": "execute_result"
    }
   ],
   "source": [
    "df[\"Title\"].isnull().sum() # displaying the title column of the dataframe"
   ]
  },
  {
   "cell_type": "markdown",
   "id": "2504b57b",
   "metadata": {},
   "source": [
    "# Filling the nan values of title column by unknown, as we cannot keep other names in which the data visualisation may be incorrect"
   ]
  },
  {
   "cell_type": "code",
   "execution_count": 12,
   "id": "84f40a78",
   "metadata": {},
   "outputs": [
    {
     "data": {
      "text/plain": [
       "0                         California Flood Awareness Videos\n",
       "1                      LED Lighting Retrofit at USACE Lakes\n",
       "2                                Trash & Recycling Services\n",
       "3                              S--OPTION - Uniform Services\n",
       "4                    Z--Airfield Runway and Taxiway Repairs\n",
       "                                ...                        \n",
       "396211    D--799-17-1-307-0001 Polyanalyst Software Main...\n",
       "396212                              Z--Install vehicle lift\n",
       "396213    FY16 JOTC BUILDING REPLACEMENT, EAST RANGE, SC...\n",
       "396214                         A--Obligate funds to CMU SEI\n",
       "396215    A--Excercise of Option Year 3 for MITRE Engine...\n",
       "Name: Title, Length: 1144877, dtype: object"
      ]
     },
     "execution_count": 12,
     "metadata": {},
     "output_type": "execute_result"
    }
   ],
   "source": [
    "df[\"Title\"] = df[\"Title\"].fillna(\"Unknown\") #Filling the nan values of title column by unknown, as we cannot keep other names in which the data visualisation may be incorrect\n",
    "df[\"Title\"]"
   ]
  },
  {
   "cell_type": "markdown",
   "id": "23abe465",
   "metadata": {},
   "source": [
    "# displaying the nan values in title column after filling the nan values"
   ]
  },
  {
   "cell_type": "code",
   "execution_count": 13,
   "id": "d2a461ee",
   "metadata": {},
   "outputs": [
    {
     "data": {
      "text/plain": [
       "0"
      ]
     },
     "execution_count": 13,
     "metadata": {},
     "output_type": "execute_result"
    }
   ],
   "source": [
    "df[\"Title\"].isnull().sum() #displaying the nan values in title column after filling the nan values"
   ]
  },
  {
   "cell_type": "markdown",
   "id": "3d2e50a1",
   "metadata": {},
   "source": [
    "# displaying the sum of nan values in sol# column"
   ]
  },
  {
   "cell_type": "code",
   "execution_count": 14,
   "id": "8a4560ff",
   "metadata": {},
   "outputs": [
    {
     "data": {
      "text/plain": [
       "50476"
      ]
     },
     "execution_count": 14,
     "metadata": {},
     "output_type": "execute_result"
    }
   ],
   "source": [
    "df[\"Sol#\"].isnull().sum() #displaying the sum of nan values in sol# column"
   ]
  },
  {
   "cell_type": "markdown",
   "id": "142e347d",
   "metadata": {},
   "source": [
    "# Filling the nan values of sol# column with 0, as the sol# is unique number, so we cannot keep other numbers which may gives incorrect redult"
   ]
  },
  {
   "cell_type": "code",
   "execution_count": 15,
   "id": "add4dfce",
   "metadata": {},
   "outputs": [],
   "source": [
    "df[\"Sol#\"] = df[\"Sol#\"].fillna(0) # filling the nan values with 0"
   ]
  },
  {
   "cell_type": "markdown",
   "id": "82c619bb",
   "metadata": {},
   "source": [
    "# displaying the total null values in sol# column after filling the nan values"
   ]
  },
  {
   "cell_type": "code",
   "execution_count": 16,
   "id": "fe9c116f",
   "metadata": {},
   "outputs": [
    {
     "data": {
      "text/plain": [
       "0"
      ]
     },
     "execution_count": 16,
     "metadata": {},
     "output_type": "execute_result"
    }
   ],
   "source": [
    "df[\"Sol#\"].isnull().sum() # displaying the total null values in sol# column after filling the nan values"
   ]
  },
  {
   "cell_type": "markdown",
   "id": "fe7f6eb1",
   "metadata": {},
   "source": [
    "# finding the mode of Department/Ind.Agency column and filling the missing values by its mode value"
   ]
  },
  {
   "cell_type": "code",
   "execution_count": 17,
   "id": "d1b11b04",
   "metadata": {},
   "outputs": [
    {
     "data": {
      "text/plain": [
       "0                    DEPT OF DEFENSE\n",
       "1                    DEPT OF DEFENSE\n",
       "2    GENERAL SERVICES ADMINISTRATION\n",
       "3                    DEPT OF DEFENSE\n",
       "4                    DEPT OF DEFENSE\n",
       "5                    DEPT OF DEFENSE\n",
       "6                    DEPT OF DEFENSE\n",
       "7                    DEPT OF DEFENSE\n",
       "8                    DEPT OF DEFENSE\n",
       "9                    DEPT OF DEFENSE\n",
       "Name: Department/Ind.Agency, dtype: object"
      ]
     },
     "execution_count": 17,
     "metadata": {},
     "output_type": "execute_result"
    }
   ],
   "source": [
    "mode_value = df['Department/Ind.Agency'].mode()[0] #findinf the mode\n",
    "df['Department/Ind.Agency'] = df['Department/Ind.Agency'].fillna(mode_value) #filling the nan values with mode\n",
    "df['Department/Ind.Agency'].head(10)"
   ]
  },
  {
   "cell_type": "markdown",
   "id": "55c8f639",
   "metadata": {},
   "source": [
    "# displaying the sum of total null values in Department/Ind.Agency after filling with mode"
   ]
  },
  {
   "cell_type": "code",
   "execution_count": 18,
   "id": "db003b1a",
   "metadata": {},
   "outputs": [
    {
     "data": {
      "text/plain": [
       "0"
      ]
     },
     "execution_count": 18,
     "metadata": {},
     "output_type": "execute_result"
    }
   ],
   "source": [
    "df[\"Department/Ind.Agency\"].isnull().sum() #printing the total nan values "
   ]
  },
  {
   "cell_type": "markdown",
   "id": "ba1b1598",
   "metadata": {},
   "source": [
    "# filling the nan values in CGAC column by 0 as it is the unique value for each organization"
   ]
  },
  {
   "cell_type": "code",
   "execution_count": 19,
   "id": "b8b790c6",
   "metadata": {},
   "outputs": [],
   "source": [
    "df[\"CGAC\"]=df[\"CGAC\"].fillna(0.0) # filling the nan values with 0"
   ]
  },
  {
   "cell_type": "markdown",
   "id": "27fc215d",
   "metadata": {},
   "source": [
    "# printing the sum of total nan values of CGAC column after filling"
   ]
  },
  {
   "cell_type": "code",
   "execution_count": 20,
   "id": "f5be9555",
   "metadata": {},
   "outputs": [
    {
     "data": {
      "text/plain": [
       "0"
      ]
     },
     "execution_count": 20,
     "metadata": {},
     "output_type": "execute_result"
    }
   ],
   "source": [
    "df[\"CGAC\"].isnull().sum() # printing the sum of total null values"
   ]
  },
  {
   "cell_type": "markdown",
   "id": "73f962d3",
   "metadata": {},
   "source": [
    "# filling the nan values of Sub-Tier column by unknown as we cannot keep other department which does not got any award"
   ]
  },
  {
   "cell_type": "code",
   "execution_count": 21,
   "id": "f1f1a5e6",
   "metadata": {},
   "outputs": [],
   "source": [
    "df['Sub-Tier'] = df['Sub-Tier'].fillna(\"Unknown\") # filling the nan values by unknown"
   ]
  },
  {
   "cell_type": "markdown",
   "id": "d7261220",
   "metadata": {},
   "source": [
    "# displaying the Sub-Tier column of the dataframe"
   ]
  },
  {
   "cell_type": "code",
   "execution_count": 22,
   "id": "85e609ff",
   "metadata": {},
   "outputs": [
    {
     "data": {
      "text/plain": [
       "0                        DEPT OF THE ARMY\n",
       "1                        DEPT OF THE ARMY\n",
       "2                PUBLIC BUILDINGS SERVICE\n",
       "3                        DEPT OF THE NAVY\n",
       "4                        DEPT OF THE NAVY\n",
       "                       ...               \n",
       "396211    VETERANS AFFAIRS, DEPARTMENT OF\n",
       "396212                   DEPT OF THE NAVY\n",
       "396213                   DEPT OF THE ARMY\n",
       "396214                            Unknown\n",
       "396215                            Unknown\n",
       "Name: Sub-Tier, Length: 1144877, dtype: object"
      ]
     },
     "execution_count": 22,
     "metadata": {},
     "output_type": "execute_result"
    }
   ],
   "source": [
    "df['Sub-Tier'] # displaying the subtier column"
   ]
  },
  {
   "cell_type": "markdown",
   "id": "92db5ccd",
   "metadata": {},
   "source": [
    "# displaying the sum of total nan values present in Sub-Tier column"
   ]
  },
  {
   "cell_type": "code",
   "execution_count": 23,
   "id": "281154c0",
   "metadata": {},
   "outputs": [
    {
     "data": {
      "text/plain": [
       "0"
      ]
     },
     "execution_count": 23,
     "metadata": {},
     "output_type": "execute_result"
    }
   ],
   "source": [
    "df[\"Sub-Tier\"].isnull().sum() # printing the sum of total null values"
   ]
  },
  {
   "cell_type": "markdown",
   "id": "786c93fb",
   "metadata": {},
   "source": [
    "# filling the nan values of FPDS column by mode value"
   ]
  },
  {
   "cell_type": "code",
   "execution_count": 24,
   "id": "4fd807b8",
   "metadata": {},
   "outputs": [
    {
     "data": {
      "text/plain": [
       "0"
      ]
     },
     "execution_count": 24,
     "metadata": {},
     "output_type": "execute_result"
    }
   ],
   "source": [
    "# Create a SimpleImputer object with 'most_frequent' strategy\n",
    "imputer = SimpleImputer(strategy='most_frequent')\n",
    "\n",
    "# Fill the null values in the 'FPDS code' column with the mode value\n",
    "df['FPDS Code'] = imputer.fit_transform(df[['FPDS Code']])\n",
    "df['FPDS Code'].isnull().sum()"
   ]
  },
  {
   "cell_type": "markdown",
   "id": "4c03dd7b",
   "metadata": {},
   "source": [
    "# filling the office address by unknown as we cannot keep other address of organization"
   ]
  },
  {
   "cell_type": "code",
   "execution_count": 25,
   "id": "56302a2d",
   "metadata": {},
   "outputs": [
    {
     "data": {
      "text/plain": [
       "0"
      ]
     },
     "execution_count": 25,
     "metadata": {},
     "output_type": "execute_result"
    }
   ],
   "source": [
    "df[\"Office\"] = df[\"Office\"].fillna(\"Unknown\") # filling the offica column with unknown\n",
    "df[\"Office\"].isnull().sum()"
   ]
  },
  {
   "cell_type": "markdown",
   "id": "f608a37d",
   "metadata": {},
   "source": [
    "# displaying the sum of total nan values of PostedDate column "
   ]
  },
  {
   "cell_type": "code",
   "execution_count": 26,
   "id": "826b4430",
   "metadata": {},
   "outputs": [
    {
     "data": {
      "text/plain": [
       "0"
      ]
     },
     "execution_count": 26,
     "metadata": {},
     "output_type": "execute_result"
    }
   ],
   "source": [
    "df[\"PostedDate\"].isnull().sum() # printing the sum of total nan values"
   ]
  },
  {
   "cell_type": "markdown",
   "id": "2a8aa201",
   "metadata": {},
   "source": [
    "#  Extracting only the time components from the 'PostedDate' column "
   ]
  },
  {
   "cell_type": "code",
   "execution_count": 27,
   "id": "da912e38",
   "metadata": {},
   "outputs": [
    {
     "data": {
      "text/plain": [
       "0         59:08-04\n",
       "1         56:11-04\n",
       "2         50:38-04\n",
       "3         47:29-04\n",
       "4         46:13-04\n",
       "            ...   \n",
       "396211    25:18-04\n",
       "396212    35:24-04\n",
       "396213    03:49-04\n",
       "396214    45:04-04\n",
       "396215    45:02-04\n",
       "Name: PostedTime, Length: 1144877, dtype: object"
      ]
     },
     "execution_count": 27,
     "metadata": {},
     "output_type": "execute_result"
    }
   ],
   "source": [
    "df['PostedTime'] = df['PostedDate'].str[-8:] #extracting the last eight strings in postdate column\n",
    "df['PostedTime']"
   ]
  },
  {
   "cell_type": "markdown",
   "id": "6bd27ef0",
   "metadata": {},
   "source": [
    "# Extracting the first ten date components into the new column"
   ]
  },
  {
   "cell_type": "code",
   "execution_count": 28,
   "id": "03aafff9",
   "metadata": {},
   "outputs": [
    {
     "data": {
      "text/plain": [
       "0         2015-09-30\n",
       "1         2015-09-30\n",
       "2         2015-09-30\n",
       "3         2015-09-30\n",
       "4         2015-09-30\n",
       "             ...    \n",
       "396211    2016-10-01\n",
       "396212    2016-10-01\n",
       "396213    2016-10-01\n",
       "396214    2016-10-01\n",
       "396215    2016-10-01\n",
       "Name: PostedDate, Length: 1144877, dtype: object"
      ]
     },
     "execution_count": 28,
     "metadata": {},
     "output_type": "execute_result"
    }
   ],
   "source": [
    "df['PostedDate']=df['PostedDate'].str[:10] # extracting the firdt ten strings \n",
    "df['PostedDate']"
   ]
  },
  {
   "cell_type": "markdown",
   "id": "33ffe6f1",
   "metadata": {},
   "source": [
    "# filling the setaside column with its mode value"
   ]
  },
  {
   "cell_type": "code",
   "execution_count": 29,
   "id": "d133c6ab",
   "metadata": {},
   "outputs": [
    {
     "data": {
      "text/plain": [
       "0         SBA\n",
       "1         SBA\n",
       "2         SBA\n",
       "3         SBA\n",
       "4         SBA\n",
       "         ... \n",
       "396211    SBA\n",
       "396212    SBA\n",
       "396213    SBA\n",
       "396214    SBA\n",
       "396215    SBA\n",
       "Name: SetASideCode, Length: 1144877, dtype: object"
      ]
     },
     "execution_count": 29,
     "metadata": {},
     "output_type": "execute_result"
    }
   ],
   "source": [
    "column_mode = df[\"SetASideCode\"].fillna(df[\"SetASideCode\"].mode()[0]) \n",
    "# Fill missing values in that column with the column mode\n",
    "df[\"SetASideCode\"].fillna(column_mode, inplace=True)  # filling the nan values with mode\n",
    "df[\"SetASideCode\"]"
   ]
  },
  {
   "cell_type": "markdown",
   "id": "16452de8",
   "metadata": {},
   "source": [
    "# "
   ]
  },
  {
   "cell_type": "code",
   "execution_count": 30,
   "id": "e694f2ba",
   "metadata": {},
   "outputs": [
    {
     "data": {
      "text/plain": [
       "0         2015-09-30\n",
       "1         2015-09-30\n",
       "2         2015-09-30\n",
       "3         2015-09-30\n",
       "4         2015-09-30\n",
       "             ...    \n",
       "396211    2016-10-01\n",
       "396212    2016-10-01\n",
       "396213    2016-10-01\n",
       "396214    2016-10-01\n",
       "396215    2016-10-01\n",
       "Name: ResponseDeadLine, Length: 1144877, dtype: object"
      ]
     },
     "execution_count": 30,
     "metadata": {},
     "output_type": "execute_result"
    }
   ],
   "source": [
    "df[\"ResponseDeadLine\"].head(10)    \n",
    "#Since the response deadline contains both the time and date splitting the column into two columns\n",
    "df['ResponseDeadLine']=df['PostedDate'].str[:10]\n",
    "df['ResponseDeadLine']"
   ]
  },
  {
   "cell_type": "markdown",
   "id": "9f4daf86",
   "metadata": {},
   "source": [
    "# filling the nan values with o in NaicsCode column"
   ]
  },
  {
   "cell_type": "code",
   "execution_count": 31,
   "id": "dd078d47",
   "metadata": {},
   "outputs": [
    {
     "data": {
      "text/plain": [
       "0         512110.0\n",
       "1         238210.0\n",
       "2         562111.0\n",
       "3              0.0\n",
       "4         237310.0\n",
       "            ...   \n",
       "396211    541519.0\n",
       "396212    238910.0\n",
       "396213    236220.0\n",
       "396214    541712.0\n",
       "396215    541990.0\n",
       "Name: NaicsCode, Length: 1144877, dtype: float64"
      ]
     },
     "execution_count": 31,
     "metadata": {},
     "output_type": "execute_result"
    }
   ],
   "source": [
    "# Fill missing values in a specific column with a specified value\n",
    "column_name = \"NaicsCode\"\n",
    "fill_value = 0  # Specify the value to use for filling missing values\n",
    "df[column_name].fillna(fill_value, inplace=True)\n",
    "df['NaicsCode']"
   ]
  },
  {
   "cell_type": "markdown",
   "id": "154bcff9",
   "metadata": {},
   "source": [
    "# filling the nan values with mode in classification column"
   ]
  },
  {
   "cell_type": "code",
   "execution_count": 32,
   "id": "c6403204",
   "metadata": {},
   "outputs": [
    {
     "data": {
      "text/plain": [
       "0         70\n",
       "1          N\n",
       "2         99\n",
       "3          S\n",
       "4          Z\n",
       "          ..\n",
       "396211     D\n",
       "396212     Z\n",
       "396213     Y\n",
       "396214     A\n",
       "396215     A\n",
       "Name: ClassificationCode, Length: 1144877, dtype: object"
      ]
     },
     "execution_count": 32,
     "metadata": {},
     "output_type": "execute_result"
    }
   ],
   "source": [
    "df[\"ClassificationCode\"] = df[\"ClassificationCode\"].fillna(df[\"ClassificationCode\"].mode()) # filling the nan values with mode\n",
    "df[\"ClassificationCode\"]"
   ]
  },
  {
   "cell_type": "code",
   "execution_count": null,
   "id": "f151b8c4",
   "metadata": {},
   "outputs": [],
   "source": []
  },
  {
   "cell_type": "code",
   "execution_count": 33,
   "id": "f29f26e0",
   "metadata": {},
   "outputs": [
    {
     "data": {
      "text/plain": [
       "0                                                   NaN\n",
       "1                                                   NaN\n",
       "2             1 Federal Drive\\r\\nFt. Snelling, MN 55111\n",
       "3                                                   NaN\n",
       "4                                                   NaN\n",
       "5     USACE- Copan Project Office 396120 St. Highway...\n",
       "6                                   Lackland AFB, Texas\n",
       "7                          Linden,, NJ 07036\\n07036\\nUS\n",
       "8                  North Brunswick, NJ 08902\\n08902\\nUS\n",
       "9                           LINDEN, NJ 07036\\n07036\\nUS\n",
       "10                                                  NaN\n",
       "11                                        Building 7525\n",
       "12                                                  NaN\n",
       "13                                                  NaN\n",
       "14                                                  NaN\n",
       "15                                                  NaN\n",
       "16                                                  NaN\n",
       "17                                                  NaN\n",
       "18    USACE District, Los Angeles 915 Wilshire Blvd,...\n",
       "19                                                  NaN\n",
       "Name: PopStreetAddress, dtype: object"
      ]
     },
     "execution_count": 33,
     "metadata": {},
     "output_type": "execute_result"
    }
   ],
   "source": [
    "df[\"PopStreetAddress\"].head(20) # printing the top 20 rows"
   ]
  },
  {
   "cell_type": "code",
   "execution_count": 34,
   "id": "c59c22ae",
   "metadata": {},
   "outputs": [
    {
     "name": "stderr",
     "output_type": "stream",
     "text": [
      "/var/folders/9q/s74pfht965b9xn08c_00yg940000gn/T/ipykernel_52384/1131446444.py:1: FutureWarning: The default value of regex will change from True to False in a future version.\n",
      "  df[\"PopStreetAddress\"] = df[\"PopStreetAddress\"].str.replace(r'\\r|\\n|\\r\\n', '')\n"
     ]
    }
   ],
   "source": [
    "df[\"PopStreetAddress\"] = df[\"PopStreetAddress\"].str.replace(r'\\r|\\n|\\r\\n', '')"
   ]
  },
  {
   "cell_type": "markdown",
   "id": "29fc8e38",
   "metadata": {},
   "source": [
    "# filling the nan values with unknown in PopStreetAddress column"
   ]
  },
  {
   "cell_type": "code",
   "execution_count": 35,
   "id": "219f2a0b",
   "metadata": {},
   "outputs": [
    {
     "data": {
      "text/plain": [
       "0"
      ]
     },
     "execution_count": 35,
     "metadata": {},
     "output_type": "execute_result"
    }
   ],
   "source": [
    "df[\"PopStreetAddress\"] = df[\"PopStreetAddress\"].fillna(\"Unknown\") # filling the nan values with unknown in PopStreetAddress column\n",
    "df[\"PopStreetAddress\"].isnull().sum()"
   ]
  },
  {
   "cell_type": "markdown",
   "id": "417c6f5b",
   "metadata": {},
   "source": [
    "# filling the nan values with  mode in PopCity column"
   ]
  },
  {
   "cell_type": "code",
   "execution_count": 36,
   "id": "4ae82340",
   "metadata": {},
   "outputs": [
    {
     "data": {
      "text/plain": [
       "0            WASHINGTON\n",
       "1            WASHINGTON\n",
       "2         FORT SNELLING\n",
       "3            WASHINGTON\n",
       "4            WASHINGTON\n",
       "              ...      \n",
       "396211       WASHINGTON\n",
       "396212       WASHINGTON\n",
       "396213       WASHINGTON\n",
       "396214       WASHINGTON\n",
       "396215       WASHINGTON\n",
       "Name: PopCity, Length: 1144877, dtype: object"
      ]
     },
     "execution_count": 36,
     "metadata": {},
     "output_type": "execute_result"
    }
   ],
   "source": [
    "df[\"PopCity\"] = df[\"PopCity\"].fillna(df[\"PopCity\"].mode()[0])\n",
    "df[\"PopCity\"]"
   ]
  },
  {
   "cell_type": "markdown",
   "id": "e043648c",
   "metadata": {},
   "source": [
    "# filling the nan values with mode in PopState column"
   ]
  },
  {
   "cell_type": "code",
   "execution_count": 37,
   "id": "d18b12c4",
   "metadata": {},
   "outputs": [
    {
     "data": {
      "text/plain": [
       "0         VA\n",
       "1         VA\n",
       "2         MN\n",
       "3         VA\n",
       "4         VA\n",
       "          ..\n",
       "396211    VA\n",
       "396212    VA\n",
       "396213    VA\n",
       "396214    VA\n",
       "396215    VA\n",
       "Name: PopState, Length: 1144877, dtype: object"
      ]
     },
     "execution_count": 37,
     "metadata": {},
     "output_type": "execute_result"
    }
   ],
   "source": [
    "df[\"PopState\"] = df[\"PopState\"].fillna(df[\"PopState\"].mode()[0]) # filling the nan values with mode \n",
    "df[\"PopState\"]"
   ]
  },
  {
   "cell_type": "code",
   "execution_count": null,
   "id": "d1bbad2f",
   "metadata": {},
   "outputs": [],
   "source": []
  },
  {
   "cell_type": "code",
   "execution_count": 38,
   "id": "cfea38a8",
   "metadata": {},
   "outputs": [
    {
     "data": {
      "text/plain": [
       "396196      NaN\n",
       "396197    29403\n",
       "396198      NaN\n",
       "396199      NaN\n",
       "396200      NaN\n",
       "396201      NaN\n",
       "396202      NaN\n",
       "396203      NaN\n",
       "396204    09870\n",
       "396205    60604\n",
       "396206    60604\n",
       "396207      NaN\n",
       "396208      NaN\n",
       "396209      NaN\n",
       "396210      NaN\n",
       "396211      NaN\n",
       "396212      NaN\n",
       "396213      NaN\n",
       "396214      NaN\n",
       "396215      NaN\n",
       "Name: PopZip, dtype: object"
      ]
     },
     "execution_count": 38,
     "metadata": {},
     "output_type": "execute_result"
    }
   ],
   "source": [
    "df[\"PopZip\"].tail(20) # displaying the last 20 rows"
   ]
  },
  {
   "cell_type": "markdown",
   "id": "53a4bcf7",
   "metadata": {},
   "source": [
    "# filling the nan values with mode in popzip colimn"
   ]
  },
  {
   "cell_type": "code",
   "execution_count": 39,
   "id": "7cd27cd8",
   "metadata": {},
   "outputs": [
    {
     "data": {
      "text/plain": [
       "0         23297\n",
       "1         23297\n",
       "2         55111\n",
       "3         23297\n",
       "4         23297\n",
       "          ...  \n",
       "396211    23297\n",
       "396212    23297\n",
       "396213    23297\n",
       "396214    23297\n",
       "396215    23297\n",
       "Name: PopZip, Length: 1144877, dtype: object"
      ]
     },
     "execution_count": 39,
     "metadata": {},
     "output_type": "execute_result"
    }
   ],
   "source": [
    "df[\"PopZip\"] = df[\"PopZip\"].fillna(df[\"PopZip\"].mode()[0]) # filling the nan values with mode \n",
    "df[\"PopZip\"]"
   ]
  },
  {
   "cell_type": "code",
   "execution_count": 40,
   "id": "7c1e7ca8",
   "metadata": {},
   "outputs": [],
   "source": [
    "# filling the nan values in popcountry with the mode"
   ]
  },
  {
   "cell_type": "code",
   "execution_count": 41,
   "id": "31bb3c2f",
   "metadata": {},
   "outputs": [
    {
     "data": {
      "text/plain": [
       "0         USA\n",
       "1         USA\n",
       "2         USA\n",
       "3         USA\n",
       "4         USA\n",
       "         ... \n",
       "396211    USA\n",
       "396212    USA\n",
       "396213    USA\n",
       "396214    USA\n",
       "396215    USA\n",
       "Name: PopCountry, Length: 1144877, dtype: object"
      ]
     },
     "execution_count": 41,
     "metadata": {},
     "output_type": "execute_result"
    }
   ],
   "source": [
    "df[\"PopCountry\"] = df[\"PopCountry\"].fillna(df[\"PopCountry\"].mode()[0]) # filling the nan values in popcountry with the mode\n",
    "df[\"PopCountry\"]"
   ]
  },
  {
   "cell_type": "markdown",
   "id": "862ad786",
   "metadata": {},
   "source": [
    "# printing the sum of total nan values in active column"
   ]
  },
  {
   "cell_type": "code",
   "execution_count": 42,
   "id": "37b7df76",
   "metadata": {},
   "outputs": [
    {
     "data": {
      "text/plain": [
       "0"
      ]
     },
     "execution_count": 42,
     "metadata": {},
     "output_type": "execute_result"
    }
   ],
   "source": [
    "df[\"Active\"].isnull().sum() # printing the sum of total nan values in active column"
   ]
  },
  {
   "cell_type": "code",
   "execution_count": 43,
   "id": "fb21e0c9",
   "metadata": {},
   "outputs": [],
   "source": [
    "# filling the awardnumber column with unknown"
   ]
  },
  {
   "cell_type": "code",
   "execution_count": 44,
   "id": "1f79b4c5",
   "metadata": {},
   "outputs": [],
   "source": [
    "df['AwardNumber'] = df['AwardNumber'].fillna(\"Unknown\")  # filling the awardnumber column with unknown"
   ]
  },
  {
   "cell_type": "code",
   "execution_count": 45,
   "id": "87f218a9",
   "metadata": {},
   "outputs": [
    {
     "data": {
      "text/plain": [
       "0            W91238-15-P-0107\n",
       "1            W91238-15-P-0098\n",
       "2                     Unknown\n",
       "3            N00244-15-P-0773\n",
       "4               n6945015c1110\n",
       "                 ...         \n",
       "396211        VA250-16-P-2921\n",
       "396212          N6247316C2837\n",
       "396213       W9128A-16-C-0015\n",
       "396214    FA870215D0002000209\n",
       "396215          FA870217C0001\n",
       "Name: AwardNumber, Length: 1144877, dtype: object"
      ]
     },
     "execution_count": 45,
     "metadata": {},
     "output_type": "execute_result"
    }
   ],
   "source": [
    "df['AwardNumber'] # displaying the awardnumber column"
   ]
  },
  {
   "cell_type": "code",
   "execution_count": null,
   "id": "b1d938bb",
   "metadata": {},
   "outputs": [],
   "source": []
  },
  {
   "cell_type": "code",
   "execution_count": 46,
   "id": "2e93ae10",
   "metadata": {},
   "outputs": [
    {
     "data": {
      "text/plain": [
       "0     2015-09-30\n",
       "1     2015-09-29\n",
       "2            NaN\n",
       "3     2015-09-30\n",
       "4     2015-09-30\n",
       "5     2015-09-30\n",
       "6            NaN\n",
       "7            NaN\n",
       "8            NaN\n",
       "9            NaN\n",
       "10    2015-09-29\n",
       "11    2015-09-30\n",
       "12    2015-09-30\n",
       "13    2015-09-30\n",
       "14    2015-09-30\n",
       "15    2015-09-30\n",
       "16    2015-09-30\n",
       "17    2015-09-30\n",
       "18    2015-09-30\n",
       "19    2015-09-30\n",
       "Name: AwardDate, dtype: object"
      ]
     },
     "execution_count": 46,
     "metadata": {},
     "output_type": "execute_result"
    }
   ],
   "source": [
    "df[\"AwardDate\"].head(20) # displaying the top twenty rows "
   ]
  },
  {
   "cell_type": "markdown",
   "id": "87824e98",
   "metadata": {},
   "source": [
    "# filling the nan values with unknown in awarddate column"
   ]
  },
  {
   "cell_type": "code",
   "execution_count": 47,
   "id": "513f25c2",
   "metadata": {},
   "outputs": [
    {
     "data": {
      "text/plain": [
       "0         2015-09-30\n",
       "1         2015-09-29\n",
       "2            Unknown\n",
       "3         2015-09-30\n",
       "4         2015-09-30\n",
       "             ...    \n",
       "396211    2016-10-01\n",
       "396212    2016-09-29\n",
       "396213    2016-09-27\n",
       "396214    2016-09-30\n",
       "396215    2016-10-01\n",
       "Name: AwardDate, Length: 1144877, dtype: object"
      ]
     },
     "execution_count": 47,
     "metadata": {},
     "output_type": "execute_result"
    }
   ],
   "source": [
    "df['AwardDate'] = df['AwardDate'].fillna(\"Unknown\") # filling the nan values with unknown in awarddate column\n",
    "df[\"AwardDate\"]"
   ]
  },
  {
   "cell_type": "markdown",
   "id": "e99c623b",
   "metadata": {},
   "source": [
    "# filling the nan values with unknown "
   ]
  },
  {
   "cell_type": "code",
   "execution_count": 48,
   "id": "ef8fd141",
   "metadata": {},
   "outputs": [
    {
     "data": {
      "text/plain": [
       "0                                   Goal Productions, Inc. \n",
       "1                                       Venergy Group, LLC \n",
       "2                                                   Unknown\n",
       "3         UNIFIRST CORPORATION [DUNS: 019723535],68 Jons...\n",
       "4                                      Head Inc./Ballew JV \n",
       "                                ...                        \n",
       "396211    MEGAPUTER INTELLIGENCE INC;1600 W BLOOMFIELD R...\n",
       "396212                              West Point Contractors \n",
       "396213    Alutiiq Manufacturing Contractors, LLC. 3909 A...\n",
       "396214    CARNEGIE MELLON UNIVERSITY, SOFTWARE ENGINEERI...\n",
       "396215    THE MITRE CORPORATION, 202 BURLINGTON RD, BEDF...\n",
       "Name: Awardee, Length: 1144877, dtype: object"
      ]
     },
     "execution_count": 48,
     "metadata": {},
     "output_type": "execute_result"
    }
   ],
   "source": [
    "df['Awardee'] = df['Awardee'].fillna(\"Unknown\") # filling the nan values with unknown\n",
    "df['Awardee']"
   ]
  },
  {
   "cell_type": "markdown",
   "id": "149c4af4",
   "metadata": {},
   "source": [
    "# filling the nan values with unknown"
   ]
  },
  {
   "cell_type": "code",
   "execution_count": 49,
   "id": "545cb5ac",
   "metadata": {},
   "outputs": [],
   "source": [
    "df['Awardee'] = df['Awardee'].fillna(\"Unknown\") # filling the nan values with unknown"
   ]
  },
  {
   "cell_type": "code",
   "execution_count": 50,
   "id": "4911bdb3",
   "metadata": {},
   "outputs": [
    {
     "data": {
      "text/plain": [
       "0                                   Goal Productions, Inc. \n",
       "1                                       Venergy Group, LLC \n",
       "2                                                   Unknown\n",
       "3         UNIFIRST CORPORATION [DUNS: 019723535],68 Jons...\n",
       "4                                      Head Inc./Ballew JV \n",
       "                                ...                        \n",
       "396211    MEGAPUTER INTELLIGENCE INC;1600 W BLOOMFIELD R...\n",
       "396212                              West Point Contractors \n",
       "396213    Alutiiq Manufacturing Contractors, LLC. 3909 A...\n",
       "396214    CARNEGIE MELLON UNIVERSITY, SOFTWARE ENGINEERI...\n",
       "396215    THE MITRE CORPORATION, 202 BURLINGTON RD, BEDF...\n",
       "Name: Awardee, Length: 1144877, dtype: object"
      ]
     },
     "execution_count": 50,
     "metadata": {},
     "output_type": "execute_result"
    }
   ],
   "source": [
    "df['Awardee']"
   ]
  },
  {
   "cell_type": "markdown",
   "id": "03953757",
   "metadata": {},
   "source": [
    "# filling the nan values of PrimaryContactTitle with mode"
   ]
  },
  {
   "cell_type": "code",
   "execution_count": 51,
   "id": "3ab972e3",
   "metadata": {},
   "outputs": [
    {
     "data": {
      "text/plain": [
       "0         Contract Specialist\n",
       "1          Contract Specialst\n",
       "2         Contracting Officer\n",
       "3         Contract Specialist\n",
       "4         Contract Specialist\n",
       "                 ...         \n",
       "396211    Contract Specialist\n",
       "396212    Contract Specialist\n",
       "396213    Contract Specialist\n",
       "396214    Contract Specialist\n",
       "396215    Contract Specialist\n",
       "Name: PrimaryContactTitle, Length: 1144877, dtype: object"
      ]
     },
     "execution_count": 51,
     "metadata": {},
     "output_type": "execute_result"
    }
   ],
   "source": [
    "df[\"PrimaryContactTitle\"] = df[\"PrimaryContactTitle\"].fillna(df[\"PrimaryContactTitle\"].mode()[0]) # filling the nan values of PrimaryContactTitle with mode\n",
    "df[\"PrimaryContactTitle\"]"
   ]
  },
  {
   "cell_type": "markdown",
   "id": "77406996",
   "metadata": {},
   "source": [
    "# replaces any occurrences of 'Contract Specialst' with 'Contract Specialist' in the 'PrimaryContactTitle' column.\n"
   ]
  },
  {
   "cell_type": "code",
   "execution_count": 52,
   "id": "f2ace016",
   "metadata": {},
   "outputs": [],
   "source": [
    "df['PrimaryContactTitle'] = df['PrimaryContactTitle'].replace('Contract Specialst', 'Contract Specialist') # replaces any occurrences of 'Contract Specialst' with 'Contract Specialist' in the 'PrimaryContactTitle' column."
   ]
  },
  {
   "cell_type": "code",
   "execution_count": 53,
   "id": "9098f173",
   "metadata": {},
   "outputs": [
    {
     "data": {
      "text/plain": [
       "0         Contract Specialist\n",
       "1         Contract Specialist\n",
       "2         Contracting Officer\n",
       "3         Contract Specialist\n",
       "4         Contract Specialist\n",
       "                 ...         \n",
       "396211    Contract Specialist\n",
       "396212    Contract Specialist\n",
       "396213    Contract Specialist\n",
       "396214    Contract Specialist\n",
       "396215    Contract Specialist\n",
       "Name: PrimaryContactTitle, Length: 1144877, dtype: object"
      ]
     },
     "execution_count": 53,
     "metadata": {},
     "output_type": "execute_result"
    }
   ],
   "source": [
    "df[\"PrimaryContactTitle\"]"
   ]
  },
  {
   "cell_type": "code",
   "execution_count": null,
   "id": "c2f3bfe1",
   "metadata": {},
   "outputs": [],
   "source": []
  },
  {
   "cell_type": "code",
   "execution_count": 54,
   "id": "d119363a",
   "metadata": {},
   "outputs": [
    {
     "data": {
      "text/plain": [
       "array(['OFFICE', nan, 'DEPARTMENT'], dtype=object)"
      ]
     },
     "execution_count": 54,
     "metadata": {},
     "output_type": "execute_result"
    }
   ],
   "source": [
    "df[\"OrganizationType\"].unique() # displaying the unique values"
   ]
  },
  {
   "cell_type": "markdown",
   "id": "e2778494",
   "metadata": {},
   "source": [
    "# filling the nan values with mode"
   ]
  },
  {
   "cell_type": "code",
   "execution_count": 55,
   "id": "0f64c92c",
   "metadata": {},
   "outputs": [
    {
     "data": {
      "text/plain": [
       "0         OFFICE\n",
       "1         OFFICE\n",
       "2         OFFICE\n",
       "3         OFFICE\n",
       "4         OFFICE\n",
       "           ...  \n",
       "396211    OFFICE\n",
       "396212    OFFICE\n",
       "396213    OFFICE\n",
       "396214    OFFICE\n",
       "396215    OFFICE\n",
       "Name: OrganizationType, Length: 1144877, dtype: object"
      ]
     },
     "execution_count": 55,
     "metadata": {},
     "output_type": "execute_result"
    }
   ],
   "source": [
    "df[\"OrganizationType\"] = df[\"OrganizationType\"].fillna(df[\"OrganizationType\"].mode()[0]) # filling the nan values with mode\n",
    "df[\"OrganizationType\"]"
   ]
  },
  {
   "cell_type": "markdown",
   "id": "8bacb5b3",
   "metadata": {},
   "source": [
    "# filling the nan values of state column with mode"
   ]
  },
  {
   "cell_type": "code",
   "execution_count": 56,
   "id": "6efbd97a",
   "metadata": {},
   "outputs": [
    {
     "data": {
      "text/plain": [
       "0         CA\n",
       "1         CA\n",
       "2         IL\n",
       "3         CA\n",
       "4         FL\n",
       "          ..\n",
       "396211    OH\n",
       "396212    CA\n",
       "396213    HI\n",
       "396214    VA\n",
       "396215    VA\n",
       "Name: State, Length: 1144877, dtype: object"
      ]
     },
     "execution_count": 56,
     "metadata": {},
     "output_type": "execute_result"
    }
   ],
   "source": [
    "df[\"State\"] = df[\"State\"].fillna(df[\"State\"].mode()[0]) # filling the nan values of state column with mode\n",
    "df[\"State\"]"
   ]
  },
  {
   "cell_type": "markdown",
   "id": "b75b0b68",
   "metadata": {},
   "source": [
    "# printing the sum of total nan values of city column"
   ]
  },
  {
   "cell_type": "code",
   "execution_count": 57,
   "id": "a4943feb",
   "metadata": {},
   "outputs": [
    {
     "data": {
      "text/plain": [
       "519770"
      ]
     },
     "execution_count": 57,
     "metadata": {},
     "output_type": "execute_result"
    }
   ],
   "source": [
    "df[\"City\"].isnull().sum() # printing the sum of total nan values of city column"
   ]
  },
  {
   "cell_type": "markdown",
   "id": "1d3f44ca",
   "metadata": {},
   "source": [
    "# filling the nan values of city column with zero"
   ]
  },
  {
   "cell_type": "code",
   "execution_count": 58,
   "id": "b2eabb95",
   "metadata": {},
   "outputs": [
    {
     "data": {
      "text/plain": [
       "0           SACRAMENTO\n",
       "1           SACRAMENTO\n",
       "2              CHICAGO\n",
       "3            SAN DIEGO\n",
       "4         JACKSONVILLE\n",
       "              ...     \n",
       "396211          DAYTON\n",
       "396212       SAN DIEGO\n",
       "396213    FORT SHAFTER\n",
       "396214      WASHINGTON\n",
       "396215      WASHINGTON\n",
       "Name: City, Length: 1144877, dtype: object"
      ]
     },
     "execution_count": 58,
     "metadata": {},
     "output_type": "execute_result"
    }
   ],
   "source": [
    "df[\"City\"] = df[\"City\"].fillna(df[\"City\"].mode()[0]) # filling the nan values of city column with zero\n",
    "df[\"City\"]"
   ]
  },
  {
   "cell_type": "markdown",
   "id": "0f667dbf",
   "metadata": {},
   "source": [
    "# printing the top twenty rows"
   ]
  },
  {
   "cell_type": "code",
   "execution_count": 59,
   "id": "9cf319e2",
   "metadata": {},
   "outputs": [
    {
     "data": {
      "text/plain": [
       "0     95814-2922\n",
       "1     95814-2922\n",
       "2          60604\n",
       "3          92136\n",
       "4     32212-0030\n",
       "5     74137-4290\n",
       "6     78236-5286\n",
       "7            NaN\n",
       "8            NaN\n",
       "9            NaN\n",
       "10    76311-2743\n",
       "11    93437-5212\n",
       "12           NaN\n",
       "13           NaN\n",
       "14           NaN\n",
       "15           NaN\n",
       "16           NaN\n",
       "17           NaN\n",
       "18    90017-3409\n",
       "19           NaN\n",
       "Name: ZipCode, dtype: object"
      ]
     },
     "execution_count": 59,
     "metadata": {},
     "output_type": "execute_result"
    }
   ],
   "source": [
    "df[\"ZipCode\"].head(20) # printing the top twenty rows"
   ]
  },
  {
   "cell_type": "markdown",
   "id": "96e33886",
   "metadata": {},
   "source": [
    "# splits the values in the 'ZipCode' column of a DataFrame at the hyphen ('-') and keeps only the first part of the spli"
   ]
  },
  {
   "cell_type": "code",
   "execution_count": 60,
   "id": "98e6b6b6",
   "metadata": {},
   "outputs": [],
   "source": [
    "df['ZipCode'] = df['ZipCode'].str.split('-').str[0] # splits the values in the 'ZipCode' column of a DataFrame at the hyphen ('-') and keeps only the first part of the spli"
   ]
  },
  {
   "cell_type": "code",
   "execution_count": 61,
   "id": "d39b135a",
   "metadata": {},
   "outputs": [
    {
     "data": {
      "text/plain": [
       "0     95814\n",
       "1     95814\n",
       "2     60604\n",
       "3     92136\n",
       "4     32212\n",
       "5     74137\n",
       "6     78236\n",
       "7       NaN\n",
       "8       NaN\n",
       "9       NaN\n",
       "10    76311\n",
       "11    93437\n",
       "12      NaN\n",
       "13      NaN\n",
       "14      NaN\n",
       "15      NaN\n",
       "16      NaN\n",
       "17      NaN\n",
       "18    90017\n",
       "19      NaN\n",
       "Name: ZipCode, dtype: object"
      ]
     },
     "execution_count": 61,
     "metadata": {},
     "output_type": "execute_result"
    }
   ],
   "source": [
    "df[\"ZipCode\"].head(20) # printing the top twenty rows"
   ]
  },
  {
   "cell_type": "markdown",
   "id": "0f60d6c4",
   "metadata": {},
   "source": [
    "# filling the nan values with zero in zipcode"
   ]
  },
  {
   "cell_type": "code",
   "execution_count": 62,
   "id": "2825e96d",
   "metadata": {},
   "outputs": [],
   "source": [
    "df['ZipCode'] = df['ZipCode'].fillna(\"0\") # filling the nan values with zero"
   ]
  },
  {
   "cell_type": "code",
   "execution_count": 63,
   "id": "dc1a9a08",
   "metadata": {},
   "outputs": [
    {
     "data": {
      "text/plain": [
       "0"
      ]
     },
     "execution_count": 63,
     "metadata": {},
     "output_type": "execute_result"
    }
   ],
   "source": [
    "df[\"ZipCode\"].isnull().sum() # PRINTING THE SUM OF TOTAL NAN VALUES"
   ]
  },
  {
   "cell_type": "markdown",
   "id": "2f57217e",
   "metadata": {},
   "source": [
    "# filling the nanvalues with mode in country code column"
   ]
  },
  {
   "cell_type": "code",
   "execution_count": 64,
   "id": "d2ea4130",
   "metadata": {},
   "outputs": [
    {
     "data": {
      "text/plain": [
       "0         USA\n",
       "1         USA\n",
       "2         USA\n",
       "3         USA\n",
       "4         USA\n",
       "         ... \n",
       "396211    USA\n",
       "396212    USA\n",
       "396213    USA\n",
       "396214    USA\n",
       "396215    USA\n",
       "Name: CountryCode, Length: 1144877, dtype: object"
      ]
     },
     "execution_count": 64,
     "metadata": {},
     "output_type": "execute_result"
    }
   ],
   "source": [
    "df[\"CountryCode\"] = df[\"CountryCode\"].fillna(df[\"CountryCode\"].mode()[0]) # filling the nanvalues with mode in ciuntry code column\n",
    "df[\"CountryCode\"]"
   ]
  },
  {
   "cell_type": "code",
   "execution_count": null,
   "id": "f56326dc",
   "metadata": {},
   "outputs": [],
   "source": []
  },
  {
   "cell_type": "code",
   "execution_count": 65,
   "id": "d3215611",
   "metadata": {},
   "outputs": [
    {
     "data": {
      "text/plain": [
       "0                                              award notice\n",
       "1                                              Award Notice\n",
       "2         This is a combined synopsis/solicitation for c...\n",
       "3                                   No Description Provided\n",
       "4                                   No Description Provided\n",
       "                                ...                        \n",
       "396211                              No Description Provided\n",
       "396212                              No Description Provided\n",
       "396213                                                  NaN\n",
       "396214                              No Description Provided\n",
       "396215                              No Description Provided\n",
       "Name: Description, Length: 1144877, dtype: object"
      ]
     },
     "execution_count": 65,
     "metadata": {},
     "output_type": "execute_result"
    }
   ],
   "source": [
    "df[\"Description\"] # printing the column"
   ]
  },
  {
   "cell_type": "markdown",
   "id": "d6260fda",
   "metadata": {},
   "source": [
    "# filling the nan values with \"No Description Provided\" in unknown values"
   ]
  },
  {
   "cell_type": "code",
   "execution_count": 66,
   "id": "ce9eddaa",
   "metadata": {},
   "outputs": [],
   "source": [
    "# filling the nan values with \"No Description Provided\" in unknown valuesdf['Description'] = df['Description'].fillna(\"No Description Provided\") "
   ]
  },
  {
   "cell_type": "code",
   "execution_count": 67,
   "id": "e09187c8",
   "metadata": {},
   "outputs": [
    {
     "data": {
      "text/plain": [
       "250736"
      ]
     },
     "execution_count": 67,
     "metadata": {},
     "output_type": "execute_result"
    }
   ],
   "source": [
    "df['Description'].isnull().sum()"
   ]
  },
  {
   "cell_type": "markdown",
   "id": "cb3bbfa2",
   "metadata": {},
   "source": [
    "# printing the sum of total nan values in description column"
   ]
  },
  {
   "cell_type": "code",
   "execution_count": 68,
   "id": "4cabdff0",
   "metadata": {},
   "outputs": [
    {
     "data": {
      "text/plain": [
       "NoticeId                          0\n",
       "Title                             0\n",
       "Sol#                              0\n",
       "Department/Ind.Agency             0\n",
       "CGAC                              0\n",
       "Sub-Tier                          0\n",
       "FPDS Code                         0\n",
       "Office                            0\n",
       "AAC Code                     519770\n",
       "PostedDate                        0\n",
       "Type                            253\n",
       "BaseType                        367\n",
       "ArchiveType                       0\n",
       "ArchiveDate                   11235\n",
       "SetASideCode                      0\n",
       "SetASide                     796225\n",
       "ResponseDeadLine                  0\n",
       "NaicsCode                         0\n",
       "ClassificationCode             4369\n",
       "PopStreetAddress                  0\n",
       "PopCity                           0\n",
       "PopState                          0\n",
       "PopZip                            0\n",
       "PopCountry                        0\n",
       "Active                            0\n",
       "AwardNumber                       0\n",
       "AwardDate                         0\n",
       "Award$                       896668\n",
       "Awardee                           0\n",
       "PrimaryContactTitle               0\n",
       "PrimaryContactFullname         1953\n",
       "PrimaryContactEmail          645232\n",
       "PrimaryContactPhone          689364\n",
       "PrimaryContactFax           1028505\n",
       "SecondaryContactTitle        959532\n",
       "SecondaryContactFullname     932934\n",
       "SecondaryContactEmail        932443\n",
       "SecondaryContactPhone        951963\n",
       "SecondaryContactFax         1064812\n",
       "OrganizationType                  0\n",
       "State                             0\n",
       "City                              0\n",
       "ZipCode                           0\n",
       "CountryCode                       0\n",
       "AdditionalInfoLink          1144877\n",
       "Link                              0\n",
       "Description                  250736\n",
       "PostedTime                        0\n",
       "dtype: int64"
      ]
     },
     "execution_count": 68,
     "metadata": {},
     "output_type": "execute_result"
    }
   ],
   "source": [
    "df.isnull().sum() # printing the sum of total nan values in description column"
   ]
  },
  {
   "cell_type": "markdown",
   "id": "e58942a2",
   "metadata": {},
   "source": [
    "# removes all non-digit characters from the values in the 'Award$' column of a DataFrame"
   ]
  },
  {
   "cell_type": "code",
   "execution_count": 69,
   "id": "db132bc5",
   "metadata": {},
   "outputs": [
    {
     "name": "stderr",
     "output_type": "stream",
     "text": [
      "/var/folders/9q/s74pfht965b9xn08c_00yg940000gn/T/ipykernel_52384/1588169714.py:1: FutureWarning: The default value of regex will change from True to False in a future version.\n",
      "  df['Award$']=df['Award$'].str.replace(r\"\\D\",\"\") # moves all non-digit characters from the values in the 'Award$' column of a DataFrame\n"
     ]
    },
    {
     "data": {
      "text/plain": [
       "0             61036\n",
       "1          13966243\n",
       "2               NaN\n",
       "3          10804900\n",
       "4           7807565\n",
       "            ...    \n",
       "396211      6013300\n",
       "396212     21195746\n",
       "396213    315966300\n",
       "396214      2139000\n",
       "396215     29178588\n",
       "Name: Award$, Length: 1144877, dtype: object"
      ]
     },
     "execution_count": 69,
     "metadata": {},
     "output_type": "execute_result"
    }
   ],
   "source": [
    "df['Award$']=df['Award$'].str.replace(r\"\\D\",\"\") # moves all non-digit characters from the values in the 'Award$' column of a DataFrame\n",
    "\n",
    "df['Award$']"
   ]
  },
  {
   "cell_type": "markdown",
   "id": "4345301d",
   "metadata": {},
   "source": [
    "# converts the values in the 'Award$' column of a DataFrame to numeric data type using the pd.to_numeric() function"
   ]
  },
  {
   "cell_type": "code",
   "execution_count": 70,
   "id": "4426d385",
   "metadata": {},
   "outputs": [],
   "source": [
    "df[\"Award$\"] = pd.to_numeric(df[\"Award$\"], errors=\"coerce\") #converts the values in the 'Award$' column of a DataFrame to numeric data type using the pd.to_numeric() function"
   ]
  },
  {
   "cell_type": "code",
   "execution_count": 71,
   "id": "c5c520e7",
   "metadata": {},
   "outputs": [
    {
     "data": {
      "text/plain": [
       "0             61036.0\n",
       "1          13966243.0\n",
       "2                 NaN\n",
       "3          10804900.0\n",
       "4           7807565.0\n",
       "             ...     \n",
       "396211      6013300.0\n",
       "396212     21195746.0\n",
       "396213    315966300.0\n",
       "396214      2139000.0\n",
       "396215     29178588.0\n",
       "Name: Award$, Length: 1144877, dtype: float64"
      ]
     },
     "execution_count": 71,
     "metadata": {},
     "output_type": "execute_result"
    }
   ],
   "source": [
    "df[\"Award$\"]  # printing the award$  column"
   ]
  },
  {
   "cell_type": "code",
   "execution_count": 72,
   "id": "c1c9cc65",
   "metadata": {},
   "outputs": [],
   "source": [
    "mean = df[\"Award$\"].mean() # finding the mean"
   ]
  },
  {
   "cell_type": "code",
   "execution_count": 73,
   "id": "ce549277",
   "metadata": {},
   "outputs": [],
   "source": [
    "df[\"Award$\"].fillna(mean, inplace=True) # filling the nan values in award$ with mean"
   ]
  },
  {
   "cell_type": "code",
   "execution_count": 74,
   "id": "844f9c58",
   "metadata": {},
   "outputs": [
    {
     "data": {
      "text/plain": [
       "0         6.103600e+04\n",
       "1         1.396624e+07\n",
       "2         3.211668e+63\n",
       "3         1.080490e+07\n",
       "4         7.807565e+06\n",
       "              ...     \n",
       "396211    6.013300e+06\n",
       "396212    2.119575e+07\n",
       "396213    3.159663e+08\n",
       "396214    2.139000e+06\n",
       "396215    2.917859e+07\n",
       "Name: Award$, Length: 1144877, dtype: float64"
      ]
     },
     "execution_count": 74,
     "metadata": {},
     "output_type": "execute_result"
    }
   ],
   "source": [
    "df['Award$'] # printing the award$ column"
   ]
  },
  {
   "cell_type": "markdown",
   "id": "9106bfc9",
   "metadata": {},
   "source": [
    "# dropping the columns which has more nan values"
   ]
  },
  {
   "cell_type": "code",
   "execution_count": 75,
   "id": "dc0eec6e",
   "metadata": {},
   "outputs": [],
   "source": [
    "df.drop(columns=['PrimaryContactEmail','PrimaryContactFax','PrimaryContactPhone','PrimaryContactFullname','SecondaryContactFullname','SecondaryContactTitle','SecondaryContactEmail','SecondaryContactPhone','SecondaryContactFax','AdditionalInfoLink','ClassificationCode'], axis=1,inplace = True)\n",
    "\n",
    "# dropping the columns which has more nan values"
   ]
  },
  {
   "cell_type": "code",
   "execution_count": 76,
   "id": "498ae261",
   "metadata": {},
   "outputs": [
    {
     "data": {
      "text/plain": [
       "(1144877, 37)"
      ]
     },
     "execution_count": 76,
     "metadata": {},
     "output_type": "execute_result"
    }
   ],
   "source": [
    "df.shape # printing the shape of the data frame"
   ]
  },
  {
   "cell_type": "markdown",
   "id": "442bc7c1",
   "metadata": {},
   "source": [
    "# filling the nan values in archivedate column with unknown"
   ]
  },
  {
   "cell_type": "code",
   "execution_count": 77,
   "id": "2ca82975",
   "metadata": {},
   "outputs": [],
   "source": [
    "df[\"ArchiveDate\"] = df[\"ArchiveDate\"].fillna(\"Unknown\") # filling the nan values in archivedate column with unknown"
   ]
  },
  {
   "cell_type": "code",
   "execution_count": 78,
   "id": "4ab60894",
   "metadata": {},
   "outputs": [
    {
     "data": {
      "text/plain": [
       "0"
      ]
     },
     "execution_count": 78,
     "metadata": {},
     "output_type": "execute_result"
    }
   ],
   "source": [
    "df[\"ArchiveDate\"].isnull().sum() # printing the sum of total nan values in archiva date"
   ]
  },
  {
   "cell_type": "markdown",
   "id": "6debc11e",
   "metadata": {},
   "source": [
    "# filling the nan values in AAC code with mode"
   ]
  },
  {
   "cell_type": "code",
   "execution_count": 79,
   "id": "e2a66681",
   "metadata": {},
   "outputs": [
    {
     "data": {
      "text/plain": [
       "0"
      ]
     },
     "execution_count": 79,
     "metadata": {},
     "output_type": "execute_result"
    }
   ],
   "source": [
    "df[\"AAC Code\"] = df[\"AAC Code\"].fillna(df[\"AAC Code\"].mode()[0]) # filling the nan values in AAC code with mode\n",
    "df[\"AAC Code\"].isnull().sum()"
   ]
  },
  {
   "cell_type": "markdown",
   "id": "a250e13a",
   "metadata": {},
   "source": [
    "# filling the nan values with the mode in type column"
   ]
  },
  {
   "cell_type": "code",
   "execution_count": 80,
   "id": "eed60f69",
   "metadata": {},
   "outputs": [
    {
     "data": {
      "text/plain": [
       "0                           Award Notice\n",
       "1                           Award Notice\n",
       "2         Combined Synopsis/Solicitation\n",
       "3                           Award Notice\n",
       "4                           Award Notice\n",
       "                       ...              \n",
       "396211                      Award Notice\n",
       "396212                      Award Notice\n",
       "396213                      Award Notice\n",
       "396214                      Award Notice\n",
       "396215                      Award Notice\n",
       "Name: Type, Length: 1144877, dtype: object"
      ]
     },
     "execution_count": 80,
     "metadata": {},
     "output_type": "execute_result"
    }
   ],
   "source": [
    "df[\"Type\"]=df[\"Type\"].fillna(df[\"Type\"].mode()[0]) # filling the nan  values with the mode in type column\n",
    "df[\"Type\"]"
   ]
  },
  {
   "cell_type": "markdown",
   "id": "62390ae5",
   "metadata": {},
   "source": [
    "# filling the nan values in basetype with mode"
   ]
  },
  {
   "cell_type": "code",
   "execution_count": 81,
   "id": "c22d30b1",
   "metadata": {},
   "outputs": [],
   "source": [
    "df[\"BaseType\"]=df[\"BaseType\"].fillna(df[\"BaseType\"].mode()[0]) # filling the nan values in basetype with mode"
   ]
  },
  {
   "cell_type": "code",
   "execution_count": 82,
   "id": "86911c05",
   "metadata": {},
   "outputs": [
    {
     "data": {
      "text/plain": [
       "0                        Presolicitation\n",
       "1                        Presolicitation\n",
       "2         Combined Synopsis/Solicitation\n",
       "3         Combined Synopsis/Solicitation\n",
       "4                        Presolicitation\n",
       "                       ...              \n",
       "396211    Combined Synopsis/Solicitation\n",
       "396212                      Award Notice\n",
       "396213                   Presolicitation\n",
       "396214                      Award Notice\n",
       "396215                      Award Notice\n",
       "Name: BaseType, Length: 1144877, dtype: object"
      ]
     },
     "execution_count": 82,
     "metadata": {},
     "output_type": "execute_result"
    }
   ],
   "source": [
    "df[\"BaseType\"] # printing the basetype column"
   ]
  },
  {
   "cell_type": "code",
   "execution_count": 83,
   "id": "f53cc2d6",
   "metadata": {},
   "outputs": [
    {
     "data": {
      "text/plain": [
       "0"
      ]
     },
     "execution_count": 83,
     "metadata": {},
     "output_type": "execute_result"
    }
   ],
   "source": [
    "df[\"BaseType\"].isnull().sum() # PRINTING THE SUM OF TOTAL NAN VALUES IN BASETYPE COLUMN"
   ]
  },
  {
   "cell_type": "code",
   "execution_count": null,
   "id": "8e83b6e9",
   "metadata": {},
   "outputs": [],
   "source": []
  },
  {
   "cell_type": "code",
   "execution_count": 84,
   "id": "5d493ce2",
   "metadata": {},
   "outputs": [
    {
     "data": {
      "text/plain": [
       "Index(['NoticeId', 'Title', 'Sol#', 'Department/Ind.Agency', 'CGAC',\n",
       "       'Sub-Tier', 'FPDS Code', 'Office', 'AAC Code', 'PostedDate', 'Type',\n",
       "       'BaseType', 'ArchiveType', 'ArchiveDate', 'SetASideCode', 'SetASide',\n",
       "       'ResponseDeadLine', 'NaicsCode', 'PopStreetAddress', 'PopCity',\n",
       "       'PopState', 'PopZip', 'PopCountry', 'Active', 'AwardNumber',\n",
       "       'AwardDate', 'Award$', 'Awardee', 'PrimaryContactTitle',\n",
       "       'OrganizationType', 'State', 'City', 'ZipCode', 'CountryCode', 'Link',\n",
       "       'Description', 'PostedTime'],\n",
       "      dtype='object')"
      ]
     },
     "execution_count": 84,
     "metadata": {},
     "output_type": "execute_result"
    }
   ],
   "source": [
    "df.columns # printing the  columns in dataframe"
   ]
  },
  {
   "cell_type": "code",
   "execution_count": 85,
   "id": "6571a87f",
   "metadata": {},
   "outputs": [
    {
     "data": {
      "text/plain": [
       "NoticeId                      0\n",
       "Title                         0\n",
       "Sol#                          0\n",
       "Department/Ind.Agency         0\n",
       "CGAC                          0\n",
       "Sub-Tier                      0\n",
       "FPDS Code                     0\n",
       "Office                        0\n",
       "AAC Code                      0\n",
       "PostedDate                    0\n",
       "Type                          0\n",
       "BaseType                      0\n",
       "ArchiveType                   0\n",
       "ArchiveDate                   0\n",
       "SetASideCode                  0\n",
       "SetASide                 796225\n",
       "ResponseDeadLine              0\n",
       "NaicsCode                     0\n",
       "PopStreetAddress              0\n",
       "PopCity                       0\n",
       "PopState                      0\n",
       "PopZip                        0\n",
       "PopCountry                    0\n",
       "Active                        0\n",
       "AwardNumber                   0\n",
       "AwardDate                     0\n",
       "Award$                        0\n",
       "Awardee                       0\n",
       "PrimaryContactTitle           0\n",
       "OrganizationType              0\n",
       "State                         0\n",
       "City                          0\n",
       "ZipCode                       0\n",
       "CountryCode                   0\n",
       "Link                          0\n",
       "Description              250736\n",
       "PostedTime                    0\n",
       "dtype: int64"
      ]
     },
     "execution_count": 85,
     "metadata": {},
     "output_type": "execute_result"
    }
   ],
   "source": [
    "df.isnull().sum() # printing the sum of total nan values in dataframe"
   ]
  },
  {
   "cell_type": "markdown",
   "id": "69247f4e",
   "metadata": {},
   "source": [
    "# Hypothesis Testing"
   ]
  },
  {
   "cell_type": "markdown",
   "id": "853bbac8",
   "metadata": {},
   "source": [
    "### H-1"
   ]
  },
  {
   "cell_type": "markdown",
   "id": "04e55222",
   "metadata": {},
   "source": [
    "#### Null Hypothesis: there is no relation with the popcountry with the award, i.e., the awards is not given based on the country.\n",
    "\n",
    "#### Alternate Hypothesis: There is relation between popcountry and award, i.e., the award is given based on the country"
   ]
  },
  {
   "cell_type": "code",
   "execution_count": 86,
   "id": "1e032037",
   "metadata": {},
   "outputs": [
    {
     "name": "stdout",
     "output_type": "stream",
     "text": [
      "0.9999999999999999\n"
     ]
    }
   ],
   "source": [
    "from scipy.stats import f_oneway\n",
    "\n",
    "# the above code using for loop\n",
    "\n",
    "Country=df['PopCountry'].value_counts().index\n",
    "\n",
    "p_value=f_oneway(*([df[df['PopCountry']==ele]['Award$'] for ele in Country]))[1]\n",
    "    \n",
    "print(p_value)"
   ]
  },
  {
   "cell_type": "markdown",
   "id": "6c00c4eb",
   "metadata": {},
   "source": [
    "#### so above p-value=1 which is more than S.L(significance level=0.05)\n",
    "#### so if p-value>S.L, then Fail to reject Ho --> Accept there is no co-relation\n",
    "#### conclusion is there is no co-relation, the award is not given based on the country"
   ]
  },
  {
   "cell_type": "code",
   "execution_count": 87,
   "id": "6321deb3",
   "metadata": {},
   "outputs": [
    {
     "data": {
      "image/png": "[encoded data removed]",
      "text/plain": [
       "<Figure size 1200x600 with 1 Axes>"
      ]
     },
     "metadata": {},
     "output_type": "display_data"
    }
   ],
   "source": [
    "import matplotlib.pyplot as plt\n",
    "import seaborn as sns\n",
    "\n",
    "top_countries = df.nlargest(90, 'Award$')\n",
    "\n",
    "plt.figure(figsize=(12, 6))\n",
    "sns.violinplot(x=top_countries['PopCountry'], y=top_countries['Award$'])\n",
    "plt.xlabel('Country')\n",
    "plt.ylabel('Money')\n",
    "plt.title('Distribution of Money for Top 10 Countries')\n",
    "plt.xticks(rotation=45)\n",
    "plt.show()"
   ]
  },
  {
   "cell_type": "code",
   "execution_count": 88,
   "id": "bd593b44",
   "metadata": {},
   "outputs": [
    {
     "name": "stdout",
     "output_type": "stream",
     "text": [
      "0.9999999999999999\n"
     ]
    }
   ],
   "source": [
    "from scipy.stats import f_oneway\n",
    "\n",
    "# the above code using for loop\n",
    "\n",
    "state=df['PopState'].value_counts().index\n",
    "\n",
    "p_value=f_oneway(*([df[df['PopState']==ele]['Award$'] for ele in state]))[1]\n",
    "    \n",
    "print(p_value)"
   ]
  },
  {
   "cell_type": "code",
   "execution_count": 89,
   "id": "e9a070d9",
   "metadata": {},
   "outputs": [
    {
     "data": {
      "image/png": "[encoded data removed]",
      "text/plain": [
       "<Figure size 1200x600 with 1 Axes>"
      ]
     },
     "metadata": {},
     "output_type": "display_data"
    }
   ],
   "source": [
    "import matplotlib.pyplot as plt\n",
    "import seaborn as sns\n",
    "\n",
    "top_states = df.nlargest(90, 'Award$')\n",
    "\n",
    "plt.figure(figsize=(12, 6))\n",
    "sns.violinplot(x=top_states['PopState'], y=top_states['Award$'])\n",
    "plt.xlabel('State')\n",
    "plt.ylabel('Money')\n",
    "plt.title('Distribution of Money for Top 10 States')\n",
    "plt.xticks(rotation=45)\n",
    "plt.show()"
   ]
  },
  {
   "cell_type": "markdown",
   "id": "d838d93e",
   "metadata": {},
   "source": [
    "#### H-2\n",
    "\n",
    "#### Null Hypothesis: There is no relationship between organization and award, i.e., the award is  not given base don the organization.\n",
    "\n",
    "#### Alternate Hypothesis: There is relationship between organization and award, i.e., the award is given based on the organizatiom"
   ]
  },
  {
   "cell_type": "code",
   "execution_count": 90,
   "id": "ac17fe14",
   "metadata": {},
   "outputs": [
    {
     "data": {
      "text/plain": [
       "414807"
      ]
     },
     "execution_count": 90,
     "metadata": {},
     "output_type": "execute_result"
    }
   ],
   "source": [
    "df['Title'].nunique()"
   ]
  },
  {
   "cell_type": "markdown",
   "id": "70614d67",
   "metadata": {},
   "source": [
    "from scipy.stats import f_oneway\n",
    "\n",
    "Tit=df['Title'].value_counts().index\n",
    "\n",
    "p_value=f_oneway(*([df[df['Title']==ele]['Award$'] for ele in Tit]))[1]\n",
    "    \n",
    "print(p_value)"
   ]
  },
  {
   "cell_type": "code",
   "execution_count": 91,
   "id": "269aa766",
   "metadata": {},
   "outputs": [
    {
     "data": {
      "text/plain": [
       "2"
      ]
     },
     "execution_count": 91,
     "metadata": {},
     "output_type": "execute_result"
    }
   ],
   "source": [
    "df['OrganizationType'].nunique()"
   ]
  },
  {
   "cell_type": "code",
   "execution_count": 92,
   "id": "0e6eb387",
   "metadata": {},
   "outputs": [
    {
     "name": "stdout",
     "output_type": "stream",
     "text": [
      "0.9962697536265108\n"
     ]
    }
   ],
   "source": [
    "from scipy.stats import f_oneway\n",
    "\n",
    "# the above code using for loop\n",
    "\n",
    "Org=df['OrganizationType'].value_counts().index\n",
    "\n",
    "p_value=f_oneway(*([df[df['OrganizationType']==ele]['Award$'] for ele in Org]))[1]\n",
    "    \n",
    "print(p_value)"
   ]
  },
  {
   "cell_type": "markdown",
   "id": "41a492d6",
   "metadata": {},
   "source": [
    "#### so above p-value=1 which is more than S.L(significance level=0.05)\n",
    "#### so if p-value>S.L, then Fail to reject Ho --> Accept there is no co-relation\n",
    "#### conclusion is there is no co-relation and award is not given based on the organization type"
   ]
  },
  {
   "cell_type": "code",
   "execution_count": 93,
   "id": "1a4e07b5",
   "metadata": {},
   "outputs": [
    {
     "data": {
      "image/png": "[encoded data removed]",
      "text/plain": [
       "<Figure size 1000x600 with 1 Axes>"
      ]
     },
     "metadata": {},
     "output_type": "display_data"
    }
   ],
   "source": [
    "import matplotlib.pyplot as plt\n",
    "import seaborn as sns\n",
    "\n",
    "# Create a box plot\n",
    "plt.figure(figsize=(10, 6))\n",
    "sns.boxplot(x='OrganizationType', y='Award$', data=df)\n",
    "plt.xlabel('OrganizationType')\n",
    "plt.ylabel('Award$')\n",
    "plt.title('Distribution of Award$ across OrganizationType')\n",
    "plt.xticks(rotation=45)  # Rotate x-axis labels for better visibility if needed\n",
    "plt.show()"
   ]
  },
  {
   "cell_type": "code",
   "execution_count": 94,
   "id": "3b73e0b7",
   "metadata": {},
   "outputs": [
    {
     "data": {
      "image/png": "[encoded data removed]",
      "text/plain": [
       "<Figure size 1000x600 with 1 Axes>"
      ]
     },
     "metadata": {},
     "output_type": "display_data"
    }
   ],
   "source": [
    "import matplotlib.pyplot as plt\n",
    "import seaborn as sns\n",
    "\n",
    "plt.figure(figsize=(10, 6))\n",
    "sns.pointplot(x='OrganizationType', y='Award$', data=df, palette='Set2')\n",
    "plt.xlabel('OrganizationType')\n",
    "plt.ylabel('Award$')\n",
    "plt.title('Distribution of Award$ across OrganizationType')\n",
    "plt.xticks(rotation=45)\n",
    "plt.show()"
   ]
  },
  {
   "cell_type": "markdown",
   "id": "73af9a00",
   "metadata": {},
   "source": [
    "### H-3\n",
    "\n",
    "#### Null Hypothesis: There is no relationship nbetween title and awards, i.e.,  the award is not given based on the brand\n",
    "\n",
    "#### Alternate Hypothesis: There is relationship between title and award, i.e., The award is given based on the brand"
   ]
  },
  {
   "cell_type": "code",
   "execution_count": 95,
   "id": "74aebfca",
   "metadata": {},
   "outputs": [
    {
     "name": "stdout",
     "output_type": "stream",
     "text": [
      "0.0\n"
     ]
    }
   ],
   "source": [
    "import numpy as np\n",
    "from scipy.stats import f_oneway\n",
    "\n",
    "titl = df.groupby('Title')['Award$'].apply(np.array).values\n",
    "p_value = f_oneway(*titl)[1]\n",
    "\n",
    "print(p_value)\n"
   ]
  },
  {
   "cell_type": "markdown",
   "id": "411a4a1c",
   "metadata": {},
   "source": [
    "#### so above p-value=0 which is less than S.L(significance level=0.05)\n",
    "#### so if p-value<S.L, then reject Ho --> Reject there is no co-relation\n",
    "#### conclusion is there is co-relation,  the award is not given based on the brand"
   ]
  },
  {
   "cell_type": "code",
   "execution_count": 96,
   "id": "284c4490",
   "metadata": {},
   "outputs": [
    {
     "name": "stdout",
     "output_type": "stream",
     "text": [
      "['CGAC', 'NaicsCode', 'Award$']\n",
      "['NoticeId', 'Title', 'Sol#', 'Department/Ind.Agency', 'Sub-Tier', 'FPDS Code', 'Office', 'AAC Code', 'PostedDate', 'Type', 'BaseType', 'ArchiveType', 'ArchiveDate', 'SetASideCode', 'SetASide', 'ResponseDeadLine', 'PopStreetAddress', 'PopCity', 'PopState', 'PopZip', 'PopCountry', 'Active', 'AwardNumber', 'AwardDate', 'Awardee', 'PrimaryContactTitle', 'OrganizationType', 'State', 'City', 'ZipCode', 'CountryCode', 'Link', 'Description', 'PostedTime']\n"
     ]
    }
   ],
   "source": [
    "con_cols=[col for col in df.columns if df[col].dtype=='int64' or df[col].dtype=='float64']\n",
    "\n",
    "cat_cols=[col for col in df.columns if df[col].dtype=='object']\n",
    "\n",
    "print(con_cols)\n",
    "\n",
    "print(cat_cols)"
   ]
  },
  {
   "cell_type": "markdown",
   "id": "ae67c0dc",
   "metadata": {},
   "source": [
    "### H-4\n",
    "\n",
    "#### Null Hypothesis: There is no relation between FPDS code and Award, i.e., The award is not given based on the FPDS code.\n",
    "#### Alternate Hypothesis: There is relation between FPDS code and award, i.e., The award is given based on the FPDS code"
   ]
  },
  {
   "cell_type": "code",
   "execution_count": 97,
   "id": "0d59661f",
   "metadata": {},
   "outputs": [
    {
     "data": {
      "text/plain": [
       "0         2100\n",
       "1         2100\n",
       "2         4740\n",
       "3         1700\n",
       "4         1700\n",
       "          ... \n",
       "396211    3600\n",
       "396212    1700\n",
       "396213    2100\n",
       "396214    1700\n",
       "396215    1700\n",
       "Name: FPDS Code, Length: 1144877, dtype: object"
      ]
     },
     "execution_count": 97,
     "metadata": {},
     "output_type": "execute_result"
    }
   ],
   "source": [
    "df['FPDS Code']"
   ]
  },
  {
   "cell_type": "code",
   "execution_count": 98,
   "id": "28705fcd",
   "metadata": {},
   "outputs": [
    {
     "data": {
      "text/plain": [
       "dtype('O')"
      ]
     },
     "execution_count": 98,
     "metadata": {},
     "output_type": "execute_result"
    }
   ],
   "source": [
    "df['FPDS Code'].dtype"
   ]
  },
  {
   "cell_type": "code",
   "execution_count": 99,
   "id": "9a9655ea",
   "metadata": {},
   "outputs": [],
   "source": [
    "import pandas as pd\n",
    "import numpy as np\n",
    "\n",
    "# Replace non-numeric values with NaN\n",
    "df['FPDS Code'] = pd.to_numeric(df['FPDS Code'], errors='coerce')\n",
    "\n",
    "# Convert the column to int64\n",
    "df['FPDS Code'] = df['FPDS Code'].astype('Int64')\n"
   ]
  },
  {
   "cell_type": "code",
   "execution_count": 100,
   "id": "8d75bdee",
   "metadata": {},
   "outputs": [
    {
     "data": {
      "text/plain": [
       "Int64Dtype()"
      ]
     },
     "execution_count": 100,
     "metadata": {},
     "output_type": "execute_result"
    }
   ],
   "source": [
    "df['FPDS Code'].dtype"
   ]
  },
  {
   "cell_type": "code",
   "execution_count": 101,
   "id": "0668ed52",
   "metadata": {},
   "outputs": [
    {
     "name": "stdout",
     "output_type": "stream",
     "text": [
      "Pearson correlation coefficient: 0.10517142842495987\n",
      "p-value: 0.0\n"
     ]
    }
   ],
   "source": [
    "import scipy.stats as stats\n",
    "\n",
    "# Convert the columns to numeric\n",
    "df['FPDS Code'] = pd.to_numeric(df['FPDS Code'], errors='coerce')\n",
    "df['Award$'] = pd.to_numeric(df['Award$'], errors='coerce')\n",
    "\n",
    "# Remove rows with NaN values in either column\n",
    "df = df[df['FPDS Code'].notna() & df['Award$'].notna()]\n",
    "\n",
    "# Calculate correlation coefficient and p-value\n",
    "corr_coeff, p_value = stats.pearsonr(df['FPDS Code'], df['Award$'])\n",
    "\n",
    "print(\"Pearson correlation coefficient:\", corr_coeff)\n",
    "print(\"p-value:\", p_value)\n"
   ]
  },
  {
   "cell_type": "code",
   "execution_count": null,
   "id": "9b4fb42e",
   "metadata": {},
   "outputs": [],
   "source": []
  },
  {
   "cell_type": "markdown",
   "id": "613fa747",
   "metadata": {},
   "source": [
    "con = df.groupby('PrimaryContactTitle')['Award$'].apply(np.array).values\n",
    "p_value = f_oneway(*con)[1]\n",
    "\n",
    "print(p_value)\n"
   ]
  },
  {
   "cell_type": "markdown",
   "id": "4eef40dd",
   "metadata": {},
   "source": [
    "#### so above p-value=0 which is less than S.L(significance level=0.05)\n",
    "#### so if p-value<S.L, then reject Ho --> Reject there is no co-relation\n",
    "#### conclusion is there is co-relation and award is not given base on the FPDS code\n",
    "\n"
   ]
  },
  {
   "cell_type": "markdown",
   "id": "57fed514",
   "metadata": {},
   "source": [
    "# DATA VISUALIZATION"
   ]
  },
  {
   "cell_type": "markdown",
   "id": "a732c69c",
   "metadata": {},
   "source": [
    "# Using the Scatter Plot to display the number of awards awarded in each month with respect to the year"
   ]
  },
  {
   "cell_type": "code",
   "execution_count": null,
   "id": "ec22f48e",
   "metadata": {},
   "outputs": [],
   "source": [
    "import matplotlib.pyplot as plt"
   ]
  },
  {
   "cell_type": "code",
   "execution_count": null,
   "id": "8e2a7784",
   "metadata": {},
   "outputs": [],
   "source": [
    "df['PostedDate'] = pd.to_datetime(df['PostedDate'])"
   ]
  },
  {
   "cell_type": "code",
   "execution_count": null,
   "id": "54f226fe",
   "metadata": {},
   "outputs": [],
   "source": [
    "df['POP-YEAR'] = df['PostedDate'].dt.year"
   ]
  },
  {
   "cell_type": "code",
   "execution_count": null,
   "id": "a3e96534",
   "metadata": {},
   "outputs": [],
   "source": [
    "df['POP-YEAR']"
   ]
  },
  {
   "cell_type": "code",
   "execution_count": null,
   "id": "208c7f17",
   "metadata": {},
   "outputs": [],
   "source": [
    "df['POP-MONTH'] = df['PostedDate'].dt.month"
   ]
  },
  {
   "cell_type": "code",
   "execution_count": null,
   "id": "00d05649",
   "metadata": {},
   "outputs": [],
   "source": [
    "df['POP-MONTH']"
   ]
  },
  {
   "cell_type": "code",
   "execution_count": null,
   "id": "c23ed78c",
   "metadata": {
    "scrolled": true
   },
   "outputs": [],
   "source": [
    "plt.scatter(df['POP-YEAR'],df['POP-MONTH'])\n",
    "plt.xlabel('Year')\n",
    "plt.ylabel('Month')\n",
    "plt.title('Awarded Contracts of each month in 3 years ')\n",
    "plt.show()"
   ]
  },
  {
   "cell_type": "markdown",
   "id": "8bb9569e",
   "metadata": {},
   "source": [
    "# Top 10 Departments or Agencies "
   ]
  },
  {
   "cell_type": "code",
   "execution_count": null,
   "id": "7e77f8d6",
   "metadata": {},
   "outputs": [],
   "source": [
    "import plotly.graph_objects as go\n",
    "import sys\n",
    "import math\n",
    "import unidecode\n",
    "import seaborn as sb\n",
    "sb.set_style(\"darkgrid\")"
   ]
  },
  {
   "cell_type": "code",
   "execution_count": null,
   "id": "ff6a5c51",
   "metadata": {},
   "outputs": [],
   "source": [
    "sector = df['Department/Ind.Agency'].value_counts().sort_values(ascending = False)"
   ]
  },
  {
   "cell_type": "code",
   "execution_count": null,
   "id": "7ddb0a5c",
   "metadata": {},
   "outputs": [],
   "source": [
    "a = sector.head(10)"
   ]
  },
  {
   "cell_type": "code",
   "execution_count": null,
   "id": "9e585aed",
   "metadata": {},
   "outputs": [],
   "source": [
    "plt.figure(figsize = (10,5))\n",
    "ax = sb.barplot(x = a, y = a.index)\n",
    "ax.bar_label(ax.containers[0])\n",
    "\n",
    "plt.title('Top 10 Departments/Acengies')\n",
    "plt.show()"
   ]
  },
  {
   "cell_type": "markdown",
   "id": "40e87df0",
   "metadata": {},
   "source": [
    "# Amount Rewarded In 4 Years"
   ]
  },
  {
   "cell_type": "code",
   "execution_count": null,
   "id": "6876c11c",
   "metadata": {},
   "outputs": [],
   "source": [
    "df['PostedDate'] = pd.to_datetime(df['PostedDate'], format='%Y-%m-%d')"
   ]
  },
  {
   "cell_type": "code",
   "execution_count": null,
   "id": "08541510",
   "metadata": {},
   "outputs": [],
   "source": [
    "df['POPYear'] = df['PostedDate'].dt.year #creating a new column i.e., month"
   ]
  },
  {
   "cell_type": "code",
   "execution_count": null,
   "id": "c870b3ab",
   "metadata": {},
   "outputs": [],
   "source": [
    "monthly_revenue = df.groupby('POPYear')['Award$'].sum()#grouping the month column with respect to sales prce"
   ]
  },
  {
   "cell_type": "code",
   "execution_count": null,
   "id": "32fcc444",
   "metadata": {},
   "outputs": [],
   "source": [
    "monthly_revenue.plot(kind='bar')     #plotting the bar graph\n",
    "plt.xlabel('Years')\n",
    "plt.ylabel('Amount in Dollars')\n",
    "plt.title('Yearly Awards')\n",
    "plt.show()"
   ]
  },
  {
   "cell_type": "markdown",
   "id": "65a52350",
   "metadata": {},
   "source": [
    "# Amount Rewarded In Each month in 4 years"
   ]
  },
  {
   "cell_type": "code",
   "execution_count": null,
   "id": "e64c23e1",
   "metadata": {},
   "outputs": [],
   "source": [
    "df['POPMonth'] = df['PostedDate'].dt.month_name() #creating a new column i.e., month\n",
    "monthly_revenue = df.groupby('POPMonth')['Award$'].sum()#grouping the month column with respect to sales prce\n",
    "monthly_revenue.plot(kind='bar')     #plotting the bar graph\n",
    "plt.xlabel('Month')\n",
    "plt.ylabel('Revenue in Dollars')\n",
    "plt.title('Monthly Award Price')\n",
    "plt.show()"
   ]
  },
  {
   "cell_type": "markdown",
   "id": "3ed17741",
   "metadata": {},
   "source": [
    "# Top 10 sub-level Organization In the Dataset"
   ]
  },
  {
   "cell_type": "code",
   "execution_count": null,
   "id": "83f30e21",
   "metadata": {},
   "outputs": [],
   "source": [
    "list1=df['Sub-Tier'].value_counts()[1:] #creating the list of total car sales for each make\n",
    "list1"
   ]
  },
  {
   "cell_type": "code",
   "execution_count": null,
   "id": "0f3ddde1",
   "metadata": {},
   "outputs": [],
   "source": [
    "# sub-level Organization \n",
    "li=[0.3]\n",
    "for x in range(1,10):\n",
    "    li.append(0)\n",
    "    \n",
    "list1[0:10].plot(kind='pie',autopct='%.0f%%',explode=li)"
   ]
  },
  {
   "cell_type": "markdown",
   "id": "50a4e432",
   "metadata": {},
   "source": [
    "# Money Rewarded in within each Opportunity Type"
   ]
  },
  {
   "cell_type": "code",
   "execution_count": null,
   "id": "99cb76aa",
   "metadata": {
    "scrolled": false
   },
   "outputs": [],
   "source": [
    "# Calculate the mean discount by car make\n",
    "mean_discount_by_make = df.groupby('BaseType')['Award$'].mean().reset_index()\n",
    "\n",
    "# Create the bar chart using seaborn\n",
    "plt.figure(figsize=(15,10))\n",
    "sb.barplot(data=mean_discount_by_make, x='BaseType', y='Award$')\n",
    "plt.xticks(rotation=90)\n",
    "plt.xlabel('Opportunity Type')\n",
    "plt.ylabel('Rewarded Amount')\n",
    "plt.title('Opportunity Type with respect to Amount rewarded')\n",
    "plt.show()"
   ]
  },
  {
   "cell_type": "markdown",
   "id": "cc61c18e",
   "metadata": {},
   "source": [
    "# Highlited the Office countries in the World"
   ]
  },
  {
   "cell_type": "code",
   "execution_count": null,
   "id": "dc1b35fa",
   "metadata": {},
   "outputs": [],
   "source": [
    "pip install geopandas"
   ]
  },
  {
   "cell_type": "code",
   "execution_count": null,
   "id": "626ac609",
   "metadata": {},
   "outputs": [],
   "source": [
    "import geopandas as gpd\n",
    "import matplotlib.pyplot as plt\n",
    "\n",
    "# Read the world shapefile data\n",
    "world = gpd.read_file(gpd.datasets.get_path('naturalearth_lowres'))\n",
    "\n",
    "# Define the country codes to highlight\n",
    "highlight_countries = df[\"CountryCode\"].unique()\n",
    "\n",
    "# Filter the world dataframe based on the country codes\n",
    "highlighted_countries = world[world['iso_a3'].isin(highlight_countries)]\n",
    "\n",
    "# Plot the world map\n",
    "world.plot(figsize=(12, 6), color='lightgray')\n",
    "\n",
    "# Plot the highlighted countries\n",
    "highlighted_countries.plot(ax=plt.gca(), color='red')\n",
    "\n",
    "# Set the plot title\n",
    "plt.title('Office Counties')\n",
    "\n",
    "# Show the plot\n",
    "plt.show()\n"
   ]
  },
  {
   "cell_type": "code",
   "execution_count": null,
   "id": "1c383d6e",
   "metadata": {},
   "outputs": [],
   "source": []
  }
 ],
 "metadata": {
  "kernelspec": {
   "display_name": "Python 3 (ipykernel)",
   "language": "python",
   "name": "python3"
  },
  "language_info": {
   "codemirror_mode": {
    "name": "ipython",
    "version": 3
   },
   "file_extension": ".py",
   "mimetype": "text/x-python",
   "name": "python",
   "nbconvert_exporter": "python",
   "pygments_lexer": "ipython3",
   "version": "3.9.13"
  }
 },
 "nbformat": 4,
 "nbformat_minor": 5
}
